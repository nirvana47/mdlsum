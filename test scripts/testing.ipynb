{
 "cells": [
  {
   "cell_type": "code",
   "execution_count": 6,
   "metadata": {},
   "outputs": [],
   "source": [
    "from typing import List\n",
    "import tiktoken\n",
    "\n",
    "\n",
    "def chunk_text(text: str, max_tokens: int = 8000) -> List[str]:\n",
    "    \"\"\"\n",
    "    Split the text into chunks of approximately the specified size.\n",
    "\n",
    "    Args:\n",
    "        text (str): The input text to be chunked.\n",
    "        chunk_size (int): The approximate size of each chunk.\n",
    "\n",
    "    Returns:\n",
    "        List[str]: A list of text chunks.\n",
    "    \"\"\"\n",
    "    encoding = tiktoken.encoding_for_model(\"gpt-3.5-turbo\")\n",
    "    tokens = encoding.encode(text)\n",
    "    chunks = []\n",
    "    \n",
    "    for i in range(0, len(tokens), max_tokens):\n",
    "        chunk_tokens = tokens[i:i + max_tokens]\n",
    "        chunk_text = encoding.decode(chunk_tokens)\n",
    "        chunks.append(chunk_text)\n",
    "    \n",
    "    return chunks"
   ]
  },
  {
   "cell_type": "code",
   "execution_count": 9,
   "metadata": {},
   "outputs": [
    {
     "name": "stdout",
     "output_type": "stream",
     "text": [
      "Hypericum sechmenii, or Seçmen's St John's wort, is a rare species of flowering plant of the St John's wort family (Hypericaceae) that is found in the Eskişehir Province of central Turkey. It was first described in 2009 by Turkish botanists Atila Ocak and Onur Koyuncu, who named the species in honor of Özcan Seçmen, a fellow botanist.\n",
      "336\n",
      " They assigned the species to the genus Hypericum, and Norman Robson later placed H. sechmenii into the section Adenosepalum. Hypericum sechmenii is a perennial herb that usually grows in clusters of stems 3–6 centimeters (1–2 inches) tall and blooms in June and July. The stems of the plant are smooth and lack hairs, while the leaves are leathery and do not have leafstalks. Its flowers are arranged in clusters\n",
      "413\n",
      " that form a flat-topped shape known as a corymb, and each flower possesses five bright yellow petals. There are several species that are similar in appearance to H. sechmenii, with only minor physical differences that set them apart. The most closely related of these are Hypericum huber-morathii, Hypericum minutum, and Hypericum thymopsis. Found among limestone rocks, Hypericum sechmenii has an estimated distribution of less than 10 square kilometers\n",
      "455\n",
      " (4 square miles), with fewer than 250 surviving plants. Despite containing druse crystals and toxic chemicals that are thought to deter herbivory, the species is threatened by overgrazing from livestock, as well as by other factors like climate change and habitat loss. The outside of its roots is made of a thick cuticle, a protective waterproof covering made of fats and wax. Directly beneath the cuticle are one to two bark-like layers of periderm that are composed of several layers\n",
      "487\n",
      " of dead cells. Beneath the periderm are several layers of thin-walled cells called a cortex. The tissue of the roots is completely covered in a layer of the water transport tissue found in plants called xylem.[5] The numerous smooth and hairless stems[3] of Hypericum sechmenii have multiple layers of different kinds of cells. On the outside is a thin cuticle that covers a single layer of epidermis. Beneath this epidermis, there\n",
      "432\n",
      " are several layers of oblong peridermal cells. These contain a waxy substance called suberin that is hydrophobic. Some cells in the periderm of the stems also contain inorganic minerals known as druse crystals,[6] which a 2020 paper theorized might deter herbivory because of their toxicity.[7] Beneath the periderm is the main growth tissue, the vascular cambium, which produces xylem and the transport tissue found in plants called ph\n",
      "437\n",
      "loem.[6] The leaves of Hypericum sechmenii lack leafstalks, instead attaching directly to the stems. They are roughly 0.2–0.5 cm (0.08–0.2 in) long,[2][3] and densely overlap each other. The texture of the leaves is described as subcoriaceous, or somewhat leathery. The shape of the leaves is either egg-like (ovate) with a broader base, or elliptic\n",
      "349\n",
      " with rounded tips and pointed bases (cuneate). There are numerous pale glands on the surfaces of the leaves, and a few black glands can be found on their edges.[3] The black glands are large enough to be seen by the naked eye, but to see the pale glands the leaf may need to be held up to a light. In the type species of the genus, H. perforatum, the pale glands contain and excrete essential oils, while the black glands contain red-staining\n",
      "443\n",
      " phenolic compounds (anthraquinone derivatives) that deter some herbivorous insects.[8] On the top and bottom sides of the leaves there are pores (stomata) that regulate gas exchange, and there is tightly packed photosynthetic tissue just below the epidermis. Some of the cells in this tissue also contain druse crystals.[\n",
      "322\n"
     ]
    }
   ],
   "source": [
    "text = \"Hypericum sechmenii, or Seçmen's St John's wort, is a rare species of flowering plant of the St John's wort family (Hypericaceae) that is found in the Eskişehir Province of central Turkey. It was first described in 2009 by Turkish botanists Atila Ocak and Onur Koyuncu, who named the species in honor of Özcan Seçmen, a fellow botanist. They assigned the species to the genus Hypericum, and Norman Robson later placed H. sechmenii into the section Adenosepalum. Hypericum sechmenii is a perennial herb that usually grows in clusters of stems 3–6 centimeters (1–2 inches) tall and blooms in June and July. The stems of the plant are smooth and lack hairs, while the leaves are leathery and do not have leafstalks. Its flowers are arranged in clusters that form a flat-topped shape known as a corymb, and each flower possesses five bright yellow petals. There are several species that are similar in appearance to H. sechmenii, with only minor physical differences that set them apart. The most closely related of these are Hypericum huber-morathii, Hypericum minutum, and Hypericum thymopsis. Found among limestone rocks, Hypericum sechmenii has an estimated distribution of less than 10 square kilometers (4 square miles), with fewer than 250 surviving plants. Despite containing druse crystals and toxic chemicals that are thought to deter herbivory, the species is threatened by overgrazing from livestock, as well as by other factors like climate change and habitat loss. The outside of its roots is made of a thick cuticle, a protective waterproof covering made of fats and wax. Directly beneath the cuticle are one to two bark-like layers of periderm that are composed of several layers of dead cells. Beneath the periderm are several layers of thin-walled cells called a cortex. The tissue of the roots is completely covered in a layer of the water transport tissue found in plants called xylem.[5] The numerous smooth and hairless stems[3] of Hypericum sechmenii have multiple layers of different kinds of cells. On the outside is a thin cuticle that covers a single layer of epidermis. Beneath this epidermis, there are several layers of oblong peridermal cells. These contain a waxy substance called suberin that is hydrophobic. Some cells in the periderm of the stems also contain inorganic minerals known as druse crystals,[6] which a 2020 paper theorized might deter herbivory because of their toxicity.[7] Beneath the periderm is the main growth tissue, the vascular cambium, which produces xylem and the transport tissue found in plants called phloem.[6] The leaves of Hypericum sechmenii lack leafstalks, instead attaching directly to the stems. They are roughly 0.2–0.5 cm (0.08–0.2 in) long,[2][3] and densely overlap each other. The texture of the leaves is described as subcoriaceous, or somewhat leathery. The shape of the leaves is either egg-like (ovate) with a broader base, or elliptic with rounded tips and pointed bases (cuneate). There are numerous pale glands on the surfaces of the leaves, and a few black glands can be found on their edges.[3] The black glands are large enough to be seen by the naked eye, but to see the pale glands the leaf may need to be held up to a light. In the type species of the genus, H. perforatum, the pale glands contain and excrete essential oils, while the black glands contain red-staining phenolic compounds (anthraquinone derivatives) that deter some herbivorous insects.[8] On the top and bottom sides of the leaves there are pores (stomata) that regulate gas exchange, and there is tightly packed photosynthetic tissue just below the epidermis. Some of the cells in this tissue also contain druse crystals.[\"\n",
    "chunks = chunk_text(text, max_tokens=100)\n",
    "\n",
    "for chunk in chunks:\n",
    "    print(chunk)\n",
    "    print(len(chunk))"
   ]
  }
 ],
 "metadata": {
  "kernelspec": {
   "display_name": "venv",
   "language": "python",
   "name": "python3"
  },
  "language_info": {
   "codemirror_mode": {
    "name": "ipython",
    "version": 3
   },
   "file_extension": ".py",
   "mimetype": "text/x-python",
   "name": "python",
   "nbconvert_exporter": "python",
   "pygments_lexer": "ipython3",
   "version": "3.9.6"
  }
 },
 "nbformat": 4,
 "nbformat_minor": 2
}
